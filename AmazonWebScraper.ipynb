{
 "cells": [
  {
   "cell_type": "code",
   "execution_count": 1,
   "id": "26e92673",
   "metadata": {},
   "outputs": [],
   "source": [
    "# importing libraries \n",
    "\n",
    "from bs4 import BeautifulSoup\n",
    "import requests\n",
    "import time\n",
    "import datetime\n",
    "\n",
    "import smtplib"
   ]
  },
  {
   "cell_type": "code",
   "execution_count": 2,
   "id": "51f4419d",
   "metadata": {},
   "outputs": [
    {
     "name": "stdout",
     "output_type": "stream",
     "text": [
      "Morningwood Lumber Adult Humor Mens Graphic Novelty Sarcastic Funny T Shirt\n",
      "18\n",
      "                            \n",
      "                             .\n"
     ]
    }
   ],
   "source": [
    "URL = 'https://www.amazon.com/Morningwood-Offensive-Novelty-Graphic-Tees/dp/B00PJARZ7M/ref=sxin_16_pa_sp_search_thematic_sspa?c=ts&content-id=amzn1.sym.948775b6-578a-48f0-9c1a-0b9de33753ab%3Aamzn1.sym.948775b6-578a-48f0-9c1a-0b9de33753ab&cv_ct_cx=Novelty+Clothing+%26+More&keywords=Novelty+Clothing+%26+More&pd_rd_i=B00PJARZ7M&pd_rd_r=e972c888-7136-4bf3-80c6-2619b50f523d&pd_rd_w=Kyrm2&pd_rd_wg=E81dI&pf_rd_p=948775b6-578a-48f0-9c1a-0b9de33753ab&pf_rd_r=MGW0DV9GAWSKBZSRS5F4&qid=1677530606&s=apparel&sr=1-2-a73d1c8c-2fd2-4f19-aa41-2df022bcb241-spons&ts_id=12035955011&psc=1&spLa=ZW5jcnlwdGVkUXVhbGlmaWVyPUFNM1YwUUcyTTBBUkEmZW5jcnlwdGVkSWQ9QTAxNTM1NjUxMjJYQk9aMUFXUDhMJmVuY3J5cHRlZEFkSWQ9QTA0ODY4OTYxSlA0WEdXQlpRNEdIJndpZGdldE5hbWU9c3Bfc2VhcmNoX3RoZW1hdGljJmFjdGlvbj1jbGlja1JlZGlyZWN0JmRvTm90TG9nQ2xpY2s9dHJ1ZQ=='\n",
    "headers = {\n",
    "    \"User-Agent\": \"Mozilla/5.0 (Windows NT 10.0; Win64; x64) AppleWebKit/537.36 (KHTML, like Gecko) Chrome/110.0.0.0 Safari/537.36\",\n",
    "    \"Accept-Encoding\": \"gzip, deflate\",\n",
    "    \"Accept\": \"text/html,application/xhtml+xml,application/xml;q=0.9,*/*;q=0.8\",\n",
    "    \"DNT\": \"1\",\n",
    "    \"Connection\": \"close\",\n",
    "    \"Upgrade-Insecure-Requests\": \"1\"\n",
    "}\n",
    "\n",
    "page = requests.get(URL, headers=headers)\n",
    "soup1 = BeautifulSoup(page.content, \"html.parser\")\n",
    "soup2 = BeautifulSoup(soup1.prettify(), \"html.parser\")\n",
    "\n",
    "title_element = soup2.find(id='productTitle')\n",
    "title = (title_element.get_text().strip())\n",
    "\n",
    "price_element = soup2.find(class_=\"a-price-whole\")\n",
    "price = price_element.get_text().strip()\n",
    "\n",
    "print(title)\n",
    "print(price)"
   ]
  },
  {
   "cell_type": "code",
   "execution_count": 3,
   "id": "140da893",
   "metadata": {},
   "outputs": [
    {
     "name": "stdout",
     "output_type": "stream",
     "text": [
      "Morningwood Lumber Adult Humor Mens Graphic Novelty Sarcastic Funny T Shirt\n"
     ]
    }
   ],
   "source": [
    "title_element = soup2.find(id='productTitle')\n",
    "title = (title_element.get_text().strip())\n",
    "print(title)"
   ]
  },
  {
   "cell_type": "code",
   "execution_count": 4,
   "id": "1927f349",
   "metadata": {},
   "outputs": [
    {
     "name": "stdout",
     "output_type": "stream",
     "text": [
      "18\n",
      "                            \n",
      "                             .\n"
     ]
    }
   ],
   "source": [
    "price_element = soup2.find(class_=\"a-price-whole\")\n",
    "price = price_element.get_text().strip()\n",
    "print(price)"
   ]
  },
  {
   "cell_type": "code",
   "execution_count": 5,
   "id": "a6494941",
   "metadata": {},
   "outputs": [
    {
     "data": {
      "text/plain": [
       "'18'"
      ]
     },
     "execution_count": 5,
     "metadata": {},
     "output_type": "execute_result"
    }
   ],
   "source": [
    "price = price[:2]\n",
    "price"
   ]
  },
  {
   "cell_type": "code",
   "execution_count": 6,
   "id": "80b134d4",
   "metadata": {},
   "outputs": [
    {
     "name": "stdout",
     "output_type": "stream",
     "text": [
      "4.6 out of 5 stars\n"
     ]
    }
   ],
   "source": [
    "ratings_element = soup2.find(class_=\"a-icon a-icon-star a-star-4-5\")\n",
    "ratings = ratings_element.get_text().strip()\n",
    "print(ratings)"
   ]
  },
  {
   "cell_type": "code",
   "execution_count": 7,
   "id": "99c469be",
   "metadata": {
    "scrolled": true
   },
   "outputs": [
    {
     "name": "stdout",
     "output_type": "stream",
     "text": [
      "4.6\n"
     ]
    }
   ],
   "source": [
    "ratings = ratings[:3]\n",
    "print(ratings)"
   ]
  },
  {
   "cell_type": "code",
   "execution_count": 8,
   "id": "f1a591e5",
   "metadata": {},
   "outputs": [
    {
     "name": "stdout",
     "output_type": "stream",
     "text": [
      "903 ratings\n"
     ]
    }
   ],
   "source": [
    "ratings_count_element = soup2.find(id=\"acrCustomerReviewText\")\n",
    "ratings_count = ratings_count_element.get_text().strip()\n",
    "print(ratings_count)"
   ]
  },
  {
   "cell_type": "code",
   "execution_count": 9,
   "id": "33ecb371",
   "metadata": {},
   "outputs": [
    {
     "name": "stdout",
     "output_type": "stream",
     "text": [
      "903\n"
     ]
    }
   ],
   "source": [
    "ratings_count = ratings_count[: -8]\n",
    "print(ratings_count)"
   ]
  },
  {
   "cell_type": "code",
   "execution_count": 10,
   "id": "f03ab20a",
   "metadata": {},
   "outputs": [
    {
     "name": "stdout",
     "output_type": "stream",
     "text": [
      "2023-02-28\n"
     ]
    }
   ],
   "source": [
    "import datetime\n",
    "\n",
    "today = datetime.date.today()\n",
    "print(today)"
   ]
  },
  {
   "cell_type": "code",
   "execution_count": 11,
   "id": "8c3ceb53",
   "metadata": {},
   "outputs": [],
   "source": [
    "import csv \n",
    "\n",
    "header =['title', 'price','date', 'number_of_ratings', 'ratings']\n",
    "data = [title, price,today,ratings_count, ratings]\n",
    "\n",
    "with open('AmazonWebScraperDataset.csv', 'w', newline='', encoding='UTF8') as f:\n",
    "    writer = csv.writer(f)\n",
    "    writer.writerow(header)\n",
    "    writer.writerow(data)"
   ]
  },
  {
   "cell_type": "code",
   "execution_count": 18,
   "id": "88dc64ec",
   "metadata": {},
   "outputs": [],
   "source": [
    "with open('AmazonWebScraperDataset.csv', 'a+', newline='', encoding='UTF8') as f:\n",
    "    writer = csv.writer(f)\n",
    "    writer.writerow(data)"
   ]
  },
  {
   "cell_type": "code",
   "execution_count": 19,
   "id": "e7914088",
   "metadata": {},
   "outputs": [
    {
     "data": {
      "text/html": [
       "<div>\n",
       "<style scoped>\n",
       "    .dataframe tbody tr th:only-of-type {\n",
       "        vertical-align: middle;\n",
       "    }\n",
       "\n",
       "    .dataframe tbody tr th {\n",
       "        vertical-align: top;\n",
       "    }\n",
       "\n",
       "    .dataframe thead th {\n",
       "        text-align: right;\n",
       "    }\n",
       "</style>\n",
       "<table border=\"1\" class=\"dataframe\">\n",
       "  <thead>\n",
       "    <tr style=\"text-align: right;\">\n",
       "      <th></th>\n",
       "      <th>title</th>\n",
       "      <th>price</th>\n",
       "      <th>date</th>\n",
       "      <th>number_of_ratings</th>\n",
       "      <th>ratings</th>\n",
       "    </tr>\n",
       "  </thead>\n",
       "  <tbody>\n",
       "    <tr>\n",
       "      <th>0</th>\n",
       "      <td>Morningwood Lumber Adult Humor Mens Graphic No...</td>\n",
       "      <td>18</td>\n",
       "      <td>2023-02-28</td>\n",
       "      <td>903</td>\n",
       "      <td>4.6</td>\n",
       "    </tr>\n",
       "    <tr>\n",
       "      <th>1</th>\n",
       "      <td>Morningwood Lumber Adult Humor Mens Graphic No...</td>\n",
       "      <td>18</td>\n",
       "      <td>2023-02-28</td>\n",
       "      <td>903</td>\n",
       "      <td>4.6</td>\n",
       "    </tr>\n",
       "    <tr>\n",
       "      <th>2</th>\n",
       "      <td>Morningwood Lumber Adult Humor Mens Graphic No...</td>\n",
       "      <td>18</td>\n",
       "      <td>2023-02-28</td>\n",
       "      <td>903</td>\n",
       "      <td>4.6</td>\n",
       "    </tr>\n",
       "    <tr>\n",
       "      <th>3</th>\n",
       "      <td>Morningwood Lumber Adult Humor Mens Graphic No...</td>\n",
       "      <td>18</td>\n",
       "      <td>2023-02-28</td>\n",
       "      <td>903</td>\n",
       "      <td>4.6</td>\n",
       "    </tr>\n",
       "    <tr>\n",
       "      <th>4</th>\n",
       "      <td>Morningwood Lumber Adult Humor Mens Graphic No...</td>\n",
       "      <td>18</td>\n",
       "      <td>2023-02-28</td>\n",
       "      <td>903</td>\n",
       "      <td>4.6</td>\n",
       "    </tr>\n",
       "    <tr>\n",
       "      <th>5</th>\n",
       "      <td>Morningwood Lumber Adult Humor Mens Graphic No...</td>\n",
       "      <td>18</td>\n",
       "      <td>2023-02-28</td>\n",
       "      <td>903</td>\n",
       "      <td>4.6</td>\n",
       "    </tr>\n",
       "    <tr>\n",
       "      <th>6</th>\n",
       "      <td>Morningwood Lumber Adult Humor Mens Graphic No...</td>\n",
       "      <td>18</td>\n",
       "      <td>2023-02-28</td>\n",
       "      <td>903</td>\n",
       "      <td>4.6</td>\n",
       "    </tr>\n",
       "  </tbody>\n",
       "</table>\n",
       "</div>"
      ],
      "text/plain": [
       "                                               title  price        date  \\\n",
       "0  Morningwood Lumber Adult Humor Mens Graphic No...     18  2023-02-28   \n",
       "1  Morningwood Lumber Adult Humor Mens Graphic No...     18  2023-02-28   \n",
       "2  Morningwood Lumber Adult Humor Mens Graphic No...     18  2023-02-28   \n",
       "3  Morningwood Lumber Adult Humor Mens Graphic No...     18  2023-02-28   \n",
       "4  Morningwood Lumber Adult Humor Mens Graphic No...     18  2023-02-28   \n",
       "5  Morningwood Lumber Adult Humor Mens Graphic No...     18  2023-02-28   \n",
       "6  Morningwood Lumber Adult Humor Mens Graphic No...     18  2023-02-28   \n",
       "\n",
       "   number_of_ratings  ratings  \n",
       "0                903      4.6  \n",
       "1                903      4.6  \n",
       "2                903      4.6  \n",
       "3                903      4.6  \n",
       "4                903      4.6  \n",
       "5                903      4.6  \n",
       "6                903      4.6  "
      ]
     },
     "execution_count": 19,
     "metadata": {},
     "output_type": "execute_result"
    }
   ],
   "source": [
    "import pandas as pd\n",
    "\n",
    "df = pd.read_csv('AmazonWebScraperDataset.csv')\n",
    "df"
   ]
  },
  {
   "cell_type": "code",
   "execution_count": 20,
   "id": "4729e9ce",
   "metadata": {},
   "outputs": [],
   "source": [
    "from email.mime.text import MIMEText\n",
    "\n",
    "def send_email(subject, body, to_email):\n",
    "    # Create a MIMEText object with the message body\n",
    "    message = MIMEText(body)\n",
    "    \n",
    "    # Set the subject, sender, and recipient\n",
    "    message['Subject'] = subject\n",
    "    message['From'] = 'jillskillion@gmail.com'\n",
    "    message['To'] = to_email\n",
    "    \n",
    "    # Connect to the SMTP server and send the email\n",
    "    with smtplib.SMTP('smtp.gmail.com', 587) as smtp_server:\n",
    "        smtp_server.ehlo()\n",
    "        smtp_server.starttls()\n",
    "        smtp_server.ehlo()\n",
    "        smtp_server.login('jillskillion@gmail.com', 'xxxxxxxxxxxxxxxxx')\n",
    "        smtp_server.sendmail('jillskillion@gmail.com', to_email, message.as_string())\n",
    "\n",
    "# Example usage\n",
    "subject = \"The Shirt you want is below $14! Now is your chance to buy!\"\n",
    "body = \"Osikanyi, This is the moment we have been waiting for. Now is your chance to pick up the shirt of your dreams. Don't mess it up! Link here: https://www.amazon.com/Morningwood-Offensive-Novelty-Graphic-Tees/dp/B00PJARZ7M/ref=sxin_16_pa_sp_search_thematic_sspa?c=ts&content-id=amzn1.sym.948775b6-578a-48f0-9c1a-0b9de33753ab%3Aamzn1.sym.948775b6-578a-48f0-9c1a-0b9de33753ab&cv_ct_cx=Novelty+Clothing+%26+More&keywords=Novelty+Clothing+%26+More&pd_rd_i=B00PJARZ7M&pd_rd_r=e972c888-7136-4bf3-80c6-2619b50f523d&pd_rd_w=Kyrm2&pd_rd_wg=E81dI&pf_rd_p=948775b6-578a-48f0-9c1a-0b9de33753ab&pf_rd_r=MGW0DV9GAWSKBZSRS5F4&qid=1677530606&s=apparel&sr=1-2-a73d1c8c-2fd2-4f19-aa41-2df022bcb241-spons&ts_id=12035955011&psc=1&spLa=ZW5jcnlwdGVkUXVhbGlmaWVyPUFNM1YwUUcyTTBBUkEmZW5jcnlwdGVkSWQ9QTAxNTM1NjUxMjJYQk9aMUFXUDhMJmVuY3J5cHRlZEFkSWQ9QTA0ODY4OTYxSlA0WEdXQlpRNEdIJndpZGdldE5hbWU9c3Bfc2VhcmNoX3RoZW1hdGljJmFjdGlvbj1jbGlja1JlZGlyZWN0JmRvTm90TG9nQ2xpY2s9dHJ1ZQ==\"\n",
    "to_email = \"jillskillion@gmail.com\"\n",
    "send_email(subject, body, to_email)\n"
   ]
  },
  {
   "cell_type": "code",
   "execution_count": 21,
   "id": "6ba009c9",
   "metadata": {},
   "outputs": [],
   "source": [
    "def check_price():\n",
    "    URL = 'https://www.amazon.com/Morningwood-Offensive-Novelty-Graphic-Tees/dp/B00PJARZ7M/ref=sxin_16_pa_sp_search_thematic_sspa?c=ts&content-id=amzn1.sym.948775b6-578a-48f0-9c1a-0b9de33753ab%3Aamzn1.sym.948775b6-578a-48f0-9c1a-0b9de33753ab&cv_ct_cx=Novelty+Clothing+%26+More&keywords=Novelty+Clothing+%26+More&pd_rd_i=B00PJARZ7M&pd_rd_r=e972c888-7136-4bf3-80c6-2619b50f523d&pd_rd_w=Kyrm2&pd_rd_wg=E81dI&pf_rd_p=948775b6-578a-48f0-9c1a-0b9de33753ab&pf_rd_r=MGW0DV9GAWSKBZSRS5F4&qid=1677530606&s=apparel&sr=1-2-a73d1c8c-2fd2-4f19-aa41-2df022bcb241-spons&ts_id=12035955011&psc=1&spLa=ZW5jcnlwdGVkUXVhbGlmaWVyPUFNM1YwUUcyTTBBUkEmZW5jcnlwdGVkSWQ9QTAxNTM1NjUxMjJYQk9aMUFXUDhMJmVuY3J5cHRlZEFkSWQ9QTA0ODY4OTYxSlA0WEdXQlpRNEdIJndpZGdldE5hbWU9c3Bfc2VhcmNoX3RoZW1hdGljJmFjdGlvbj1jbGlja1JlZGlyZWN0JmRvTm90TG9nQ2xpY2s9dHJ1ZQ=='\n",
    "    headers = {\n",
    "    \"User-Agent\": \"Mozilla/5.0 (Windows NT 10.0; Win64; x64) AppleWebKit/537.36 (KHTML, like Gecko) Chrome/110.0.0.0 Safari/537.36\",\n",
    "    \"Accept-Encoding\": \"gzip, deflate\",\n",
    "    \"Accept\": \"text/html,application/xhtml+xml,application/xml;q=0.9,*/*;q=0.8\",\n",
    "    \"DNT\": \"1\",\n",
    "    \"Connection\": \"close\",\n",
    "    \"Upgrade-Insecure-Requests\": \"1\"\n",
    "    }\n",
    "\n",
    "    page = requests.get(URL, headers=headers)\n",
    "    soup1 = BeautifulSoup(page.content, \"html.parser\")\n",
    "    soup2 = BeautifulSoup(soup1.prettify(), \"html.parser\")\n",
    "\n",
    "    title_element = soup2.find(id='productTitle')\n",
    "    title = (title_element.get_text().strip())\n",
    "\n",
    "    price_element = soup2.find(class_=\"a-price-whole\")\n",
    "    price = price_element.get_text().strip()\n",
    "    price = price[:2]\n",
    "    \n",
    "    ratings_element = soup2.find(class_=\"a-icon a-icon-star a-star-4-5\")\n",
    "    ratings = ratings_element.get_text().strip()\n",
    "    ratings = ratings[:3]\n",
    "    \n",
    "    ratings_count_element = soup2.find(id=\"acrCustomerReviewText\")\n",
    "    ratings_count = ratings_count_element.get_text().strip()\n",
    "    ratings_count = ratings_count[: -8]\n",
    "    \n",
    "    import datetime\n",
    "    today = datetime.date.today()\n",
    "    \n",
    "    import csv \n",
    "    header =['title', 'price','date', 'number_of_ratings', 'ratings']\n",
    "    data = [title, price,today,ratings_count, ratings]\n",
    "    \n",
    "    with open('AmazonWebScraperDataset.csv', 'a+', newline='', encoding='UTF8') as f:\n",
    "        writer = csv.writer(f)\n",
    "        writer.writerow(data)\n",
    "        \n",
    "    if (int(price)<14):\n",
    "        send_email()"
   ]
  },
  {
   "cell_type": "code",
   "execution_count": null,
   "id": "4f7cd8ef",
   "metadata": {},
   "outputs": [],
   "source": [
    "while(True):\n",
    "    check_price()\n",
    "    time.sleep(86400)"
   ]
  },
  {
   "cell_type": "code",
   "execution_count": null,
   "id": "fcdad772",
   "metadata": {},
   "outputs": [],
   "source": []
  }
 ],
 "metadata": {
  "kernelspec": {
   "display_name": "Python 3 (ipykernel)",
   "language": "python",
   "name": "python3"
  },
  "language_info": {
   "codemirror_mode": {
    "name": "ipython",
    "version": 3
   },
   "file_extension": ".py",
   "mimetype": "text/x-python",
   "name": "python",
   "nbconvert_exporter": "python",
   "pygments_lexer": "ipython3",
   "version": "3.9.16"
  }
 },
 "nbformat": 4,
 "nbformat_minor": 5
}
